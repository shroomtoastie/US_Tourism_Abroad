{
 "cells": [
  {
   "cell_type": "code",
   "execution_count": 1,
   "metadata": {},
   "outputs": [],
   "source": [
    "import pandas as pd\n",
    "import requests"
   ]
  },
  {
   "cell_type": "code",
   "execution_count": 3,
   "metadata": {},
   "outputs": [],
   "source": [
    "df_tourism = pd.read_csv('tourism_dataset.csv')"
   ]
  },
  {
   "cell_type": "code",
   "execution_count": 4,
   "metadata": {},
   "outputs": [
    {
     "data": {
      "text/html": [
       "<div>\n",
       "<style scoped>\n",
       "    .dataframe tbody tr th:only-of-type {\n",
       "        vertical-align: middle;\n",
       "    }\n",
       "\n",
       "    .dataframe tbody tr th {\n",
       "        vertical-align: top;\n",
       "    }\n",
       "\n",
       "    .dataframe thead th {\n",
       "        text-align: right;\n",
       "    }\n",
       "</style>\n",
       "<table border=\"1\" class=\"dataframe\">\n",
       "  <thead>\n",
       "    <tr style=\"text-align: right;\">\n",
       "      <th></th>\n",
       "      <th>Location</th>\n",
       "      <th>Country</th>\n",
       "      <th>Category</th>\n",
       "      <th>Visitors</th>\n",
       "      <th>Rating</th>\n",
       "      <th>Revenue</th>\n",
       "      <th>Accommodation_Available</th>\n",
       "    </tr>\n",
       "  </thead>\n",
       "  <tbody>\n",
       "    <tr>\n",
       "      <th>0</th>\n",
       "      <td>kuBZRkVsAR</td>\n",
       "      <td>India</td>\n",
       "      <td>Nature</td>\n",
       "      <td>948853</td>\n",
       "      <td>1.32</td>\n",
       "      <td>84388.38</td>\n",
       "      <td>Yes</td>\n",
       "    </tr>\n",
       "    <tr>\n",
       "      <th>1</th>\n",
       "      <td>aHKUXhjzTo</td>\n",
       "      <td>USA</td>\n",
       "      <td>Historical</td>\n",
       "      <td>813627</td>\n",
       "      <td>2.01</td>\n",
       "      <td>802625.60</td>\n",
       "      <td>No</td>\n",
       "    </tr>\n",
       "    <tr>\n",
       "      <th>2</th>\n",
       "      <td>dlrdYtJFTA</td>\n",
       "      <td>Brazil</td>\n",
       "      <td>Nature</td>\n",
       "      <td>508673</td>\n",
       "      <td>1.42</td>\n",
       "      <td>338777.11</td>\n",
       "      <td>Yes</td>\n",
       "    </tr>\n",
       "    <tr>\n",
       "      <th>3</th>\n",
       "      <td>DxmlzdGkHK</td>\n",
       "      <td>Brazil</td>\n",
       "      <td>Historical</td>\n",
       "      <td>623329</td>\n",
       "      <td>1.09</td>\n",
       "      <td>295183.60</td>\n",
       "      <td>Yes</td>\n",
       "    </tr>\n",
       "    <tr>\n",
       "      <th>4</th>\n",
       "      <td>WJCCQlepnz</td>\n",
       "      <td>France</td>\n",
       "      <td>Cultural</td>\n",
       "      <td>124867</td>\n",
       "      <td>1.43</td>\n",
       "      <td>547893.24</td>\n",
       "      <td>No</td>\n",
       "    </tr>\n",
       "  </tbody>\n",
       "</table>\n",
       "</div>"
      ],
      "text/plain": [
       "     Location Country    Category  Visitors  Rating    Revenue  \\\n",
       "0  kuBZRkVsAR   India      Nature    948853    1.32   84388.38   \n",
       "1  aHKUXhjzTo     USA  Historical    813627    2.01  802625.60   \n",
       "2  dlrdYtJFTA  Brazil      Nature    508673    1.42  338777.11   \n",
       "3  DxmlzdGkHK  Brazil  Historical    623329    1.09  295183.60   \n",
       "4  WJCCQlepnz  France    Cultural    124867    1.43  547893.24   \n",
       "\n",
       "  Accommodation_Available  \n",
       "0                     Yes  \n",
       "1                      No  \n",
       "2                     Yes  \n",
       "3                     Yes  \n",
       "4                      No  "
      ]
     },
     "execution_count": 4,
     "metadata": {},
     "output_type": "execute_result"
    }
   ],
   "source": [
    "df_tourism.head()"
   ]
  },
  {
   "cell_type": "code",
   "execution_count": 5,
   "metadata": {},
   "outputs": [
    {
     "name": "stdout",
     "output_type": "stream",
     "text": [
      "<class 'pandas.core.frame.DataFrame'>\n",
      "RangeIndex: 5989 entries, 0 to 5988\n",
      "Data columns (total 7 columns):\n",
      " #   Column                   Non-Null Count  Dtype  \n",
      "---  ------                   --------------  -----  \n",
      " 0   Location                 5989 non-null   object \n",
      " 1   Country                  5989 non-null   object \n",
      " 2   Category                 5989 non-null   object \n",
      " 3   Visitors                 5989 non-null   int64  \n",
      " 4   Rating                   5989 non-null   float64\n",
      " 5   Revenue                  5989 non-null   float64\n",
      " 6   Accommodation_Available  5989 non-null   object \n",
      "dtypes: float64(2), int64(1), object(4)\n",
      "memory usage: 327.7+ KB\n"
     ]
    }
   ],
   "source": [
    "df_tourism.info()"
   ]
  },
  {
   "cell_type": "code",
   "execution_count": 6,
   "metadata": {},
   "outputs": [
    {
     "name": "stdout",
     "output_type": "stream",
     "text": [
      "        Location Country    Category  Visitors  Rating    Revenue  \\\n",
      "0     kuBZRkVsAR   India      Nature    948853    1.32   84388.38   \n",
      "1     aHKUXhjzTo     USA  Historical    813627    2.01  802625.60   \n",
      "2     dlrdYtJFTA  Brazil      Nature    508673    1.42  338777.11   \n",
      "3     DxmlzdGkHK  Brazil  Historical    623329    1.09  295183.60   \n",
      "4     WJCCQlepnz  France    Cultural    124867    1.43  547893.24   \n",
      "...          ...     ...         ...       ...     ...        ...   \n",
      "5984  xAzwnVKAqz     USA       Urban    828137    1.97  132848.78   \n",
      "5985  IfKotyaJFC  France      Nature    276317    3.53  325183.96   \n",
      "5986  bPyubCWGgA   Egypt       Beach    809198    3.37  927336.50   \n",
      "5987  kkWIucpBnu   Egypt    Cultural    808303    2.52  115791.43   \n",
      "5988  gHXUrdticm  France    Cultural     40939    4.65  957026.85   \n",
      "\n",
      "     Accommodation_Available  \n",
      "0                        Yes  \n",
      "1                         No  \n",
      "2                        Yes  \n",
      "3                        Yes  \n",
      "4                         No  \n",
      "...                      ...  \n",
      "5984                      No  \n",
      "5985                     Yes  \n",
      "5986                      No  \n",
      "5987                     Yes  \n",
      "5988                     Yes  \n",
      "\n",
      "[5989 rows x 7 columns]\n"
     ]
    }
   ],
   "source": [
    "print(df_tourism)"
   ]
  }
 ],
 "metadata": {
  "kernelspec": {
   "display_name": "Python 3",
   "language": "python",
   "name": "python3"
  },
  "language_info": {
   "codemirror_mode": {
    "name": "ipython",
    "version": 3
   },
   "file_extension": ".py",
   "mimetype": "text/x-python",
   "name": "python",
   "nbconvert_exporter": "python",
   "pygments_lexer": "ipython3",
   "version": "3.13.0"
  }
 },
 "nbformat": 4,
 "nbformat_minor": 2
}
